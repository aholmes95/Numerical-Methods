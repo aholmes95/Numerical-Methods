{
 "cells": [
  {
   "cell_type": "markdown",
   "metadata": {},
   "source": [
    "# MA943 - Numerical Methods"
   ]
  },
  {
   "cell_type": "markdown",
   "metadata": {},
   "source": [
    "## Question 1: Precision of floating point arithmetic\n",
    "\n",
    "Consider the recursion relation\n",
    "\n",
    "$a_{n+1} = 2\\, a_n - \\frac{8}{9}\\, a_{n-1}$\n",
    "\n",
    "with the initial conditions $a_1=1$ and $a_2=\\frac{2}{3}$. \n",
    "\n",
    "1. Calculate the first 80 terms in this sequence using single precision floating point arithmetic (Float32 in Julia). Plot the resulting sequence on a lin-log plot.\n",
    "\n",
    "2. Repeat the calculation using double precision floating point arithmetic (Float64 in Julia) and add the results to to your plot.\n",
    "\n",
    "3. Find the **general** solution of the recursion relation analytically (it should contain two arbitrary constants). Hint: start from the ansatz $a_n = x^n$ and find the the allowed values of $x$.\n",
    "\n",
    "4. Find the solution that satisfies the initial conditions $a_1=1$ and $a_2=\\frac{2}{3}$. \n",
    "\n",
    "5. Find the solution that satisfies the perturbed initial conditions $a_1=1$ and $a_2=\\frac{2}{3}+\\epsilon$. Use the answer to explain your numerical results.\n",
    "\n",
    "6. Julia supports arbitrary precision floating point arithmetic using the BigFloat type (see https://docs.julialang.org/en/latest/manual/integers-and-floating-point-numbers/#Arbitrary-Precision-Arithmetic-1). Try to reproduce the exact solution for the first 80 terms in the sequence using 128 bit precision and show the results on your plot."
   ]
  },
  {
   "cell_type": "code",
   "execution_count": 1,
   "metadata": {},
   "outputs": [
    {
     "name": "stderr",
     "output_type": "stream",
     "text": [
      "\u001b[1m\u001b[34mINFO: Nothing to be done\n",
      "\u001b[0m\u001b[1m\u001b[34mINFO: METADATA is out-of-date — you may not have the latest version of Plots\n",
      "\u001b[0m\u001b[1m\u001b[34mINFO: Use `Pkg.update()` to get the latest versions of your packages\n",
      "\u001b[0m\u001b[1m\u001b[34mINFO: Updating METADATA...\n",
      "\u001b[0m\u001b[1m\u001b[34mINFO: Computing changes...\n",
      "\u001b[0m\u001b[1m\u001b[34mINFO: No packages to install, update or remove\n",
      "\u001b[0m"
     ]
    }
   ],
   "source": [
    "Pkg.add(\"Plots\")\n",
    "Pkg.update()\n",
    "using Plots"
   ]
  },
  {
   "cell_type": "code",
   "execution_count": 2,
   "metadata": {},
   "outputs": [
    {
     "name": "stderr",
     "output_type": "stream",
     "text": [
      "\u001b[1m\u001b[31mWARNING: Skipped marker arg o.\u001b[0m\n"
     ]
    },
    {
     "ename": "LoadError",
     "evalue": "UndefVarError: @L_str not defined",
     "output_type": "error",
     "traceback": [
      "UndefVarError: @L_str not defined",
      "",
      " in include_string(::String, ::String) at ./loading.jl:441"
     ]
    }
   ],
   "source": [
    "pyplot()\n",
    "include(\"recurse32.jl\")\n",
    "include(\"recurse64.jl\")\n",
    "include(\"recurse128.jl\")\n",
    "n=80\n",
    "A = zeros(n,1)\n",
    "B = zeros(n,1)\n",
    "C = zeros(n,1)\n",
    "D = zeros(n,1)\n",
    "for i=1:n\n",
    "    A[i,1] = recurse32(i)\n",
    "end\n",
    "x = linspace(1,n,n)\n",
    "plot(x,A,yscale=:log10,label=\"float32\",color=\"red\",marker=\"o\")\n",
    "xlabel!(L\"n\")\n",
    "ylabel!(L\"a_n\")\n",
    "title!(\"Plot of solution of recurrence relation \\n for different types of precision with exact solution\")\n",
    "legend()\n",
    "\n",
    "#hold(true)\n",
    "\n",
    "for j=1:n\n",
    "    B[j,1] = recurse64(j)\n",
    "end\n",
    "\n",
    "plot!(x,B,yscale=:log10,label=\"float64\",color=\"blue\",marker=\"o\")\n",
    "\n",
    "for k=1:n\n",
    "    C[k,1] = recurse128(k)\n",
    "end\n",
    "\n",
    "plot!(x,C,yscale=:log10,label=\"float128\",color=\"green\",marker=\"o\")\n",
    "\n",
    "for l=1:n\n",
    "    D[l,1] = (2/3)^(l-1)\n",
    "end\n",
    "\n",
    "plot!(x,D,yscale=:log10,label=\"Exact\",color=\"yellow\",marker=\"o\")"
   ]
  },
  {
   "cell_type": "markdown",
   "metadata": {},
   "source": [
    "$\\textbf{Part 3: }$\n",
    "We have the relation $a_{n+1} = 2a_n - \\frac{8}{9}a_{n-1}$. The corresponding auxilliary equation for this recurrence relation is $\\lambda^2-2\\lambda+\\frac{8}{9}=0$, which gives us the solutions $\\lambda = \\frac{4}{3}, \\frac{2}{3}$. Thus, our recurrence relation will have a solution of the form \\begin{equation}\n",
    "a_n = A\\left(\\frac{4}{3}\\right)^n + B\\left(\\frac{2}{3}\\right)^n.\n",
    "\\end{equation}\n",
    "\n",
    "$\\textbf{Part 4: }$ \\begin{gather}\n",
    "a_1 = \\frac{4}{3}A + \\frac{2}{3}B = 1 \\\\\n",
    "a_2 = \\frac{16}{9}A + \\frac{4}{9}B = \\frac{2}{3}\n",
    "\\end{gather}\n",
    "Then solving these, we get $A=0$ and $B=\\frac{3}{2}$. This gives us the following as the solution to our recurrence relation: \\begin{equation}\n",
    "a_n = \\left(\\frac{2}{3}\\right)^{n-1}\n",
    "\\end{equation}\n",
    "\n",
    "$\\textbf{Part 5: }$ We will now consider initial conditions $a_1 = 1, \\, a_2 = \\frac{2}{3}+\\varepsilon.$ Then \\begin{gather}\n",
    "16A+4B=3(2+3\\varepsilon)\\\\\n",
    "8A+4B=6.\n",
    "\\end{gather} SOlving these, we get $A = \\frac{9\\varepsilon}{8}$, and $B = \\frac{3}{2}-\\frac{9}{4}\\varepsilon$. Then our solution is given by\n",
    "\\begin{equation}\n",
    "a_n = \\frac{9}{8}\\varepsilon\\left(\\frac{4}{3}\\right)^n + \\left(\\frac{3}{2}-\\frac{9}{4}\\varepsilon\\right)\\left(\\frac{2}{3}\\right)^n\n",
    "\\end{equation}\n",
    "Now the term $\\left(\\frac{4}{3}\\right)^n$ has a non-zeros coefficient. As $\\frac{4}{3}>1$, as $n$ increases, this term will grow exponentially, essentially becoming the dominating term. Thus, the small perturbation $\\varepsilon$ will change the long term behaviour of the solution."
   ]
  },
  {
   "cell_type": "markdown",
   "metadata": {},
   "source": [
    "## Question 2: Computational complexity of the mergesort algorithm\n",
    "\n",
    "Consider two arrays of integers, A and B, having lengths n and m respectively. Assuming that the elements of A and B are already sorted in ascending order. The following recursive function merges them to return an array of length n+m whose elements are sorted in ascending order:\n",
    "\n"
   ]
  },
  {
   "cell_type": "code",
   "execution_count": 3,
   "metadata": {},
   "outputs": [
    {
     "data": {
      "text/plain": [
       "mergepresorted (generic function with 1 method)"
      ]
     },
     "execution_count": 3,
     "metadata": {},
     "output_type": "execute_result"
    }
   ],
   "source": [
    "function mergepresorted(A::Array{Int64,1}, B::Array{Int64,1})\n",
    "    if length(A) == 0\n",
    "        return B\n",
    "    elseif length(B) == 0\n",
    "        return A\n",
    "    elseif A[1] < B[1]\n",
    "        return vcat([A[1]], mergepresorted(A[2:end], B))\n",
    "    else\n",
    "        return vcat([B[1]], mergepresorted(A, B[2:end]))\n",
    "    end    \n",
    "end"
   ]
  },
  {
   "cell_type": "markdown",
   "metadata": {},
   "source": [
    "The computational complexity of this function is $n+m$.\n",
    "\n",
    "1. Verify that the function mergepresorted(A, B) works as described.\n",
    "2. Write a recursive function that implements the mergesort algorithm for an array of integers whose length, $n$ is a power of 2: $n=2^m$. Verify that it works by generating some arrays of random integers and using your function to sort them.\n",
    "3. Explain why the computational complexity, $F(n)$, of your mergesort algorithm satisfies the recursion\n",
    "> $F(n) = 2\\, F(\\frac{n}{2}) + n\\ \\ \\ \\ $ with initial condition $F(1)=1$.  \n",
    "4. Introduce the new variable p defined by $n = 2^p$ and let $b_p = F(2^p)$. Show that in these variables the above equation takes the form\n",
    "> $b_p = 2 b_{p−1} + 2^p\\ \\ \\ \\ $ with initial condition $b_0 = 1$.\n",
    "5. Find the general solution to the associated homogeneous recursion relation (ie without the $2^p$ term).\n",
    "6. Find a particular solution of the original inhomogenous recursion relation and use the initial condition to determine the constant in the homogenous solution.\n",
    "7. Hence show that the computational complexity of the mergesort algorithm is\n",
    "> $F(n) = O(n\\, \\log n)$.\n",
    "8. Use Julia's @timed macro to measure the execution time of your mergesort function for arrays of lengths $\\{2^i : i =1 : 15\\}$. Compare the results to the theoretical expectations."
   ]
  },
  {
   "cell_type": "code",
   "execution_count": 4,
   "metadata": {},
   "outputs": [
    {
     "name": "stdout",
     "output_type": "stream",
     "text": [
      "[1,2,3,4,5,6,7]"
     ]
    },
    {
     "data": {
      "text/plain": [
       "1-element Array{Int64,1}:\n",
       " 2"
      ]
     },
     "execution_count": 4,
     "metadata": {},
     "output_type": "execute_result"
    }
   ],
   "source": [
    "###Part 1: Verify mergeseort(A,B) works as expected.\n",
    "A1 = vec([1 2 3 4])\n",
    "B1 = vec([5 6 7])\n",
    "print(mergepresorted(A1,B1))\n",
    "\n",
    "A2 = vec([])\n",
    "B2 = vec([2])\n"
   ]
  },
  {
   "cell_type": "markdown",
   "metadata": {},
   "source": [
    "This seems to be working as expected. "
   ]
  },
  {
   "cell_type": "code",
   "execution_count": 5,
   "metadata": {},
   "outputs": [
    {
     "data": {
      "text/plain": [
       "mergeSort (generic function with 1 method)"
      ]
     },
     "execution_count": 5,
     "metadata": {},
     "output_type": "execute_result"
    }
   ],
   "source": [
    "##Part 2: Write an algorithm to implement the mergesort algorithm.\n",
    "\n",
    "function mergeSort(A::Array{Int64,1})\n",
    "    n=Int(length(A))\n",
    "    if n==1\n",
    "        return A\n",
    "    else\n",
    "        m=n/2\n",
    "        m=Int(m)\n",
    "        return mergepresorted(mergeSort(A[1:m]),mergeSort(A[m+1:n]))\n",
    "    end\n",
    "end"
   ]
  },
  {
   "cell_type": "code",
   "execution_count": 6,
   "metadata": {},
   "outputs": [
    {
     "data": {
      "text/plain": [
       "16-element Array{Int64,1}:\n",
       "  1\n",
       "  6\n",
       "  7\n",
       " 15\n",
       " 21\n",
       " 29\n",
       " 30\n",
       " 38\n",
       " 40\n",
       " 51\n",
       " 53\n",
       " 58\n",
       " 63\n",
       " 75\n",
       " 81\n",
       " 96"
      ]
     },
     "execution_count": 6,
     "metadata": {},
     "output_type": "execute_result"
    }
   ],
   "source": [
    "A = rand(1:100,16)\n",
    "mergeSort(A)"
   ]
  },
  {
   "cell_type": "markdown",
   "metadata": {},
   "source": [
    "This seems to be working as expected."
   ]
  },
  {
   "cell_type": "markdown",
   "metadata": {},
   "source": [
    "$\\textbf{Part 3: }$ Complexity recursive relation.\n",
    "\n",
    "We now want to determine the complexity of the merge sort algorithm. Let F(n) denote the time taken to run the mergesort algorithm on a vector of length n.\n",
    "\n",
    "In the merge sort algorithm, we recursively look at two vectors each of half the size of the previous one, and also apply the mergepresorted algorithm which has complexity $\\sim \\mathcal{O}(n)$.\n",
    "\n",
    "Thus, the $F(n)$ is equal to two lots of $F\\left(\\frac{n}{2}\\right)$, and the time taken to merge them together ($n$).\n",
    "So $F(n) = 2F\\left(\\frac{n}{2}\\right) + n$.\n",
    "\n",
    "\n",
    "\n",
    "\n",
    "After solving stuff, you get \\begin{equation}\n",
    "b_p = (p+1)2^p\n",
    "\\end{equation}\n",
    "We can then use $b_p = F(n)$, where $n=2^p$ to see that \\begin{equation}\n",
    "F(n) = (\\frac{\\log(n)}{\\log(2)}+1)(2^{\\log(n)})^{\\frac{1}{\\log(2)}}\n",
    "\\end{equation}\n",
    "This gives us That $F(n) \\sim \\mathcal{O}(n\\log(n))$"
   ]
  },
  {
   "cell_type": "code",
   "execution_count": null,
   "metadata": {},
   "outputs": [],
   "source": []
  },
  {
   "cell_type": "code",
   "execution_count": 8,
   "metadata": {},
   "outputs": [
    {
     "data": {
      "text/html": [
       "<img src=\"data:image/png;base64,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\" />"
      ]
     },
     "execution_count": 8,
     "metadata": {},
     "output_type": "execute_result"
    }
   ],
   "source": [
    "t = zeros(15,1)\n",
    "for i=1:15\n",
    "    A = rand(1:100,2^i)\n",
    "    ~,t[i],~,~,~=@timed(mergeSort(A))\n",
    "end\n",
    "i=1:15\n",
    "plot(2.^i,t,label=\"Actual\")\n",
    "plot!(2.^i, t[1]*(2.^i.*log10.(2.^i)/log10(2) + 2.^i),label=\"Theoretical\")"
   ]
  },
  {
   "cell_type": "code",
   "execution_count": null,
   "metadata": {
    "collapsed": true
   },
   "outputs": [],
   "source": []
  }
 ],
 "metadata": {
  "anaconda-cloud": {},
  "kernelspec": {
   "display_name": "Julia 0.5.2",
   "language": "julia",
   "name": "julia-0.5"
  },
  "language_info": {
   "file_extension": ".jl",
   "mimetype": "application/julia",
   "name": "julia",
   "version": "0.5.2"
  }
 },
 "nbformat": 4,
 "nbformat_minor": 1
}
